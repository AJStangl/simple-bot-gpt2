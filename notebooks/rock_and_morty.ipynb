{
 "cells": [
  {
   "cell_type": "code",
   "execution_count": 42,
   "metadata": {
    "collapsed": true
   },
   "outputs": [],
   "source": [
    "import csv"
   ]
  },
  {
   "cell_type": "code",
   "execution_count": 41,
   "outputs": [],
   "source": [
    "csv_filename = \"RickAndMortyScripts.csv\""
   ],
   "metadata": {
    "collapsed": false
   }
  },
  {
   "cell_type": "code",
   "execution_count": null,
   "outputs": [],
   "source": [
    "def create_tagged(episodename, comment, reply, comment_author):\n",
    "    return f\"<|sols r/{episodename}|><|sot|>{episodename}<|eot|><|sol|><|eol|><|sor u/{comment_author}|>{comment}<|eor|><|sor|>{reply}<|eor|>\""
   ],
   "metadata": {
    "collapsed": false
   }
  },
  {
   "cell_type": "code",
   "execution_count": 51,
   "outputs": [],
   "source": [
    "with open(csv_filename, encoding='utf-8') as f:\n",
    "    reader = csv.DictReader(f)\n",
    "    foos = []\n",
    "    temp = []\n",
    "    for row in reader:\n",
    "        episode_name = row.get(\"episode name\")\n",
    "        episode_number =  row.get('episode no.')\n",
    "        season_number = row.get('season no.')\n",
    "        name = row.get('name')\n",
    "        line = row.get('line')\n",
    "\n",
    "\n",
    "        \"<|sols r/SubSimGPT2Interactive|><|sot|>Yui: Welcome to the club!<|eot|><|sol|><|eol|><|sor|>\"\n"
   ],
   "metadata": {
    "collapsed": false
   }
  }
 ],
 "metadata": {
  "kernelspec": {
   "display_name": "Python 3",
   "language": "python",
   "name": "python3"
  },
  "language_info": {
   "codemirror_mode": {
    "name": "ipython",
    "version": 2
   },
   "file_extension": ".py",
   "mimetype": "text/x-python",
   "name": "python",
   "nbconvert_exporter": "python",
   "pygments_lexer": "ipython2",
   "version": "2.7.6"
  }
 },
 "nbformat": 4,
 "nbformat_minor": 0
}
